{
 "cells": [
  {
   "cell_type": "code",
   "execution_count": 7,
   "metadata": {},
   "outputs": [
    {
     "name": "stdout",
     "output_type": "stream",
     "text": [
      "ENTER THE STRING sweet\n",
      "THE LENGTH OF STRING IS  5\n"
     ]
    }
   ],
   "source": [
    "#LENGTH OF STRING WITHOUT USING LEN FUNCTION\n",
    "count=0\n",
    "a=input(\"ENTER THE STRING \")\n",
    "for i in a:\n",
    "    count=count+1\n",
    "print(\"THE LENGTH OF STRING IS \",count)    \n",
    "            \n",
    "    "
   ]
  },
  {
   "cell_type": "code",
   "execution_count": 8,
   "metadata": {},
   "outputs": [
    {
     "name": "stdout",
     "output_type": "stream",
     "text": [
      "ENTER FIRET STRING ankit\n",
      "ENTER SECOND STRING sharma\n",
      "ankitsharma\n"
     ]
    }
   ],
   "source": [
    "#CONCATINATION OF TWO STRINGS\n",
    "a=input(\"ENTER FIRET STRING \")\n",
    "b=input(\"ENTER SECOND STRING \")\n",
    "c=a+b\n",
    "print(c)"
   ]
  },
  {
   "cell_type": "code",
   "execution_count": 14,
   "metadata": {},
   "outputs": [
    {
     "name": "stdout",
     "output_type": "stream",
     "text": [
      "ENTER THE SENTENCE hey 123\n",
      "TOTAL NO OF DIGITS IN SENTENCE IS  3\n",
      "TOTAL NO OF LETTERS IN SENTENCE IS  3\n"
     ]
    }
   ],
   "source": [
    "#CALCULATE NUMBER OF LETTERS AND DIGITS IN A SENTENCE\n",
    "l=0\n",
    "d=0\n",
    "a=input(\"ENTER THE SENTENCE \")\n",
    "for i in a:\n",
    "    if(i.isdigit()):\n",
    "        d=d+1\n",
    "    elif(i.isalpha()):    \n",
    "        l=l+1\n",
    "print(\"TOTAL NO OF DIGITS IN SENTENCE IS \",d)\n",
    "print(\"TOTAL NO OF LETTERS IN SENTENCE IS \",l)"
   ]
  },
  {
   "cell_type": "code",
   "execution_count": 15,
   "metadata": {},
   "outputs": [
    {
     "name": "stdout",
     "output_type": "stream",
     "text": [
      "ENTER THE STRING abcdef\n",
      "STRING IN CAPITAL LETTERS IS  ABCDEF\n"
     ]
    }
   ],
   "source": [
    "#ENTER STRING AND OUTPUTS IN CAPITAL LETTERS\n",
    "a=input(\"ENTER THE STRING \")\n",
    "b=a.upper()\n",
    "print(\"STRING IN CAPITAL LETTERS IS \",b)"
   ]
  },
  {
   "cell_type": "code",
   "execution_count": 16,
   "metadata": {},
   "outputs": [
    {
     "name": "stdout",
     "output_type": "stream",
     "text": [
      "ENTER THE STRING ankit SHARMA UIET kuk cse\n",
      "NUMBER OF UPPER CASE LETTERS IN STRING : 10\n",
      "NUMBER OF LOWER CASE LETTERS IN STRING : 11\n",
      "NUMBER OF WHITE SPACES IN STRING : 4\n"
     ]
    }
   ],
   "source": [
    "#CALCULATE NO OF UPPERCASE AND LOWER CASE LETTERS\n",
    "a=input(\"ENTER THE STRING \")\n",
    "l=0\n",
    "u=0\n",
    "s=0\n",
    "for i in a:\n",
    "    if(i.islower())== True:\n",
    "        l=l+1\n",
    "    elif(i.isupper())==True:\n",
    "        u=u+1\n",
    "    elif(i.isspace())==True:\n",
    "        s=s+1\n",
    "print(\"NUMBER OF UPPER CASE LETTERS IN STRING :\",u)\n",
    "print(\"NUMBER OF LOWER CASE LETTERS IN STRING :\",l)\n",
    "print(\"NUMBER OF WHITE SPACES IN STRING :\",s)"
   ]
  },
  {
   "cell_type": "code",
   "execution_count": null,
   "metadata": {},
   "outputs": [],
   "source": [
    "\n",
    "       \n",
    "    "
   ]
  },
  {
   "cell_type": "code",
   "execution_count": null,
   "metadata": {},
   "outputs": [],
   "source": [
    " "
   ]
  },
  {
   "cell_type": "code",
   "execution_count": 1,
   "metadata": {},
   "outputs": [
    {
     "name": "stdout",
     "output_type": "stream",
     "text": [
      "ENTER THE STRING :ankitShaRma\n",
      "AFTER SWAP CASES STRING: ANKITsHArMA\n"
     ]
    }
   ],
   "source": [
    "#INTERCHANGE CASES IN STRING\n",
    "a=input(\"ENTER THE STRING :\")\n",
    "b=\"\"\n",
    "for i in a:\n",
    "    if(i.isupper())==True:\n",
    "        b+=(i.lower())\n",
    "    elif(i.islower())==True:\n",
    "        b+=(i.upper())\n",
    "    elif(i.isspace())==True:\n",
    "        b+=i\n",
    "print(\"AFTER SWAP CASES STRING:\",b)"
   ]
  },
  {
   "cell_type": "code",
   "execution_count": 2,
   "metadata": {},
   "outputs": [
    {
     "name": "stdout",
     "output_type": "stream",
     "text": [
      "Enter a sentence: ankit sharma in coding blocks\n",
      "Enter a specific character about which you wants to know: c\n",
      "2\n"
     ]
    }
   ],
   "source": [
    "#OCCURANCE OF A LETTER IN A STRING\n",
    "a= input(\"Enter a sentence: \")\n",
    "x=input(\"Enter a specific character about which you wants to know: \")\n",
    "y=0\n",
    "for i in a:\n",
    "    if i==x:\n",
    "        y=y+1\n",
    "print(y)"
   ]
  },
  {
   "cell_type": "code",
   "execution_count": 3,
   "metadata": {},
   "outputs": [
    {
     "name": "stdout",
     "output_type": "stream",
     "text": [
      "enter the string :naman\n",
      "palindrome\n"
     ]
    }
   ],
   "source": [
    "#PALLINDROME STRING\n",
    "a=input(\"enter the string :\")\n",
    "b=a[::-1]\n",
    "if(a==b):\n",
    "    print(\"palindrome\")\n",
    "else:\n",
    "    print(\"not a palindrome\")"
   ]
  },
  {
   "cell_type": "code",
   "execution_count": 4,
   "metadata": {},
   "outputs": [
    {
     "name": "stdout",
     "output_type": "stream",
     "text": [
      "enter a string:ankit\n",
      "enter the index:3\n",
      "character u want to change:j\n",
      "['a', 'n', 'k', 'j', 't']\n"
     ]
    }
   ],
   "source": [
    "#REPLACING STRING INDEX CHARACTER\n",
    "a=input(\"enter a string:\")\n",
    "b=int(input(\"enter the index:\"))\n",
    "c=input(\"character u want to enter:\")\n",
    "d=list(a)\n",
    "d[b]=c\n",
    "a=str(d)\n",
    "print(\"\".join(map(str,a)))"
   ]
  },
  {
   "cell_type": "code",
   "execution_count": 6,
   "metadata": {},
   "outputs": [
    {
     "name": "stdout",
     "output_type": "stream",
     "text": [
      "enter a string: ankitankitankitankit\n",
      "enter a substring: ankit\n",
      "4\n"
     ]
    }
   ],
   "source": [
    "#OCCURANCE OF SUBSTRINGS IN A STRING\n",
    "a=input(\"enter a string: \")\n",
    "b=input(\"enter a substring: \")\n",
    "print(a.count(b))"
   ]
  },
  {
   "cell_type": "code",
   "execution_count": 7,
   "metadata": {},
   "outputs": [
    {
     "name": "stdout",
     "output_type": "stream",
     "text": [
      "enter a binary number:1010111110101010101001110101\n",
      "enter occurences:5\n",
      "True\n"
     ]
    }
   ],
   "source": [
    "#CHECKING CONSECUTIVE 1 IN A BINARY NUMBER\n",
    "n=input(\"enter a binary number:\")\n",
    "k=int(input(\"enter occurences:\"))\n",
    "numbers='1'*k\n",
    "if numbers in n:\n",
    "    print(\"True\")\n",
    "else:\n",
    "    print(\"false\")"
   ]
  },
  {
   "cell_type": "code",
   "execution_count": 8,
   "metadata": {},
   "outputs": [
    {
     "name": "stdout",
     "output_type": "stream",
     "text": [
      "enter a string:ANKIT\n",
      "TIKNA\n"
     ]
    }
   ],
   "source": [
    "#REVERSE A STRING\n",
    "n=input(\"enter a string: \")\n",
    "print(n[::-1])"
   ]
  },
  {
   "cell_type": "code",
   "execution_count": 9,
   "metadata": {},
   "outputs": [
    {
     "name": "stdout",
     "output_type": "stream",
     "text": [
      "enter the first string:ANKITSHARMA\n",
      "enter the second string:SHARMA\n",
      "b is substring of a\n"
     ]
    }
   ],
   "source": [
    "#SUBSTRING OF FIRST\n",
    "a=input(\"enter the first string:\")\n",
    "b=input(\"enter the second string:\")\n",
    "if b in a:\n",
    "    print(\"b is substring of a\")\n",
    "else:\n",
    "    print(\"b is not substring of a\")"
   ]
  },
  {
   "cell_type": "code",
   "execution_count": 12,
   "metadata": {},
   "outputs": [
    {
     "name": "stdout",
     "output_type": "stream",
     "text": [
      "enter your password :ANKITSH\n",
      "not valid\n"
     ]
    }
   ],
   "source": [
    "#PASSWORD VALIDATOR\n",
    "import re\n",
    "p=input(\"enter your password :\")\n",
    "x=True\n",
    "while x:\n",
    "    if(len(p)<6 or len(p)>12):\n",
    "        break\n",
    "    elif not re.search(\"[a-z]\",p):\n",
    "        break\n",
    "    elif not re.search(\"[A-Z]\",p):\n",
    "        breakelif\n",
    "    elif not re.search(\"[0-9]\",p):\n",
    "        break\n",
    "    elif not re.search(\"[@$#]\",p):\n",
    "        break\n",
    "    else:\n",
    "        print(\"valid password\")\n",
    "        x=False\n",
    "        break\n",
    "if x:\n",
    "    print(\"not valid\")"
   ]
  },
  {
   "cell_type": "code",
   "execution_count": 14,
   "metadata": {},
   "outputs": [
    {
     "name": "stdout",
     "output_type": "stream",
     "text": [
      "input number1: 12\n",
      "input number2: 2\n",
      "144\n"
     ]
    }
   ],
   "source": [
    "#POSITIONAL ARGUMENTS\n",
    "x=int(input(\"input number1: \"))\n",
    "y=int(input(\"input number2: \"))\n",
    "    \n",
    "def po(x,y):\n",
    "    return x**y\n",
    "   \n",
    "print(po(x,y))"
   ]
  },
  {
   "cell_type": "code",
   "execution_count": 15,
   "metadata": {},
   "outputs": [
    {
     "name": "stdout",
     "output_type": "stream",
     "text": [
      "enter string1:ANKIT\n",
      "enter string2:SHARMA\n",
      "ANKITSHARMA\n"
     ]
    }
   ],
   "source": [
    "#CONCATINATION OF STRINGS\n",
    "x=input(\"enter string1:\")\n",
    "y=input(\"enter string2:\")\n",
    "def con(x,y):\n",
    "    return x+y\n",
    "print(con(x,y))\n"
   ]
  },
  {
   "cell_type": "code",
   "execution_count": 16,
   "metadata": {},
   "outputs": [
    {
     "name": "stdout",
     "output_type": "stream",
     "text": [
      "enter number: 44\n",
      "True\n"
     ]
    }
   ],
   "source": [
    "#EVEN OR NOT BOOL\n",
    "n=int(input(\"enter number: \"))\n",
    "def oe():\n",
    "     if(n%2==0):\n",
    "        return True\n",
    "     else:\n",
    "        return False\n",
    "print(oe())"
   ]
  },
  {
   "cell_type": "code",
   "execution_count": 18,
   "metadata": {},
   "outputs": [
    {
     "name": "stdout",
     "output_type": "stream",
     "text": [
      "enter the string :1221\n",
      "True\n"
     ]
    }
   ],
   "source": [
    "#PALLINDROME BOOL OUTPUT\n",
    "a=input(\"enter the string :\")\n",
    "b=a[::-1]\n",
    "def pali():\n",
    "    if(a==b):\n",
    "        return True\n",
    "    else:\n",
    "        return False\n",
    "print(pali())"
   ]
  },
  {
   "cell_type": "code",
   "execution_count": 20,
   "metadata": {},
   "outputs": [
    {
     "name": "stdout",
     "output_type": "stream",
     "text": [
      "enter string:ANKIT SHARMA\n",
      "2\n"
     ]
    }
   ],
   "source": [
    "#NUMBER OF WORDS IN A STRING\n",
    "a=input(\"enter string:\")\n",
    "b=a.split(\" \")\n",
    "c=len(b)\n",
    "print(c)"
   ]
  },
  {
   "cell_type": "code",
   "execution_count": 23,
   "metadata": {},
   "outputs": [
    {
     "name": "stdout",
     "output_type": "stream",
     "text": [
      "enter 3 numbers:1,2,3\n",
      "3\n"
     ]
    }
   ],
   "source": [
    "#LARGEST AMONG THREE NUMBERS\n",
    "a=input(\"enter 3 numbers:\")\n",
    "b=a.split(\",\")\n",
    "print(max(b))"
   ]
  },
  {
   "cell_type": "code",
   "execution_count": 25,
   "metadata": {},
   "outputs": [
    {
     "name": "stdout",
     "output_type": "stream",
     "text": [
      "enter the value N1:10\n",
      "enter the value N2:4\n",
      "5\n",
      "11\n",
      "14\n",
      "17\n",
      "23\n",
      "26\n",
      "29\n",
      "35\n",
      "38\n",
      "41\n"
     ]
    }
   ],
   "source": [
    "#PRINT SEQUENCE\n",
    "n1=int(input(\"enter the value N1:\"))\n",
    "n2=int(input(\"enter the value N2:\"))\n",
    "\n",
    "for i in range(1,n1+5):\n",
    "        x= (3*i)+2\n",
    "        if(x%n2==0):\n",
    "            pass\n",
    "        else:\n",
    "            print(x)"
   ]
  },
  {
   "cell_type": "code",
   "execution_count": 26,
   "metadata": {},
   "outputs": [
    {
     "name": "stdout",
     "output_type": "stream",
     "text": [
      "enter the num:12345\n",
      "54321\n"
     ]
    }
   ],
   "source": [
    "#REVERSE A NUMBER TAKES INPUT FROM USER\n",
    "n=input(\"enter the num:\")\n",
    "b=n[::-1]\n",
    "print(b)"
   ]
  },
  {
   "cell_type": "code",
   "execution_count": 27,
   "metadata": {},
   "outputs": [
    {
     "name": "stdout",
     "output_type": "stream",
     "text": [
      "enter:1234500\n",
      "1234555\n"
     ]
    }
   ],
   "source": [
    "#REPLACE 0 BY 5\n",
    "n=input(\"enter:\")\n",
    "b=n.replace(\"0\",\"5\")\n",
    "print(b)"
   ]
  },
  {
   "cell_type": "code",
   "execution_count": 28,
   "metadata": {},
   "outputs": [
    {
     "name": "stdout",
     "output_type": "stream",
     "text": [
      "enter a number:10\n",
      "10\n",
      "20\n",
      "30\n",
      "40\n",
      "50\n",
      "60\n",
      "70\n",
      "80\n",
      "90\n",
      "100\n"
     ]
    }
   ],
   "source": [
    "#TABLE OF A NUMBER\n",
    "n=int(input(\"enter a number:\"))\n",
    "for i in range(1,11):\n",
    "    a=n*i\n",
    "    print(a)"
   ]
  },
  {
   "cell_type": "code",
   "execution_count": 29,
   "metadata": {},
   "outputs": [
    {
     "name": "stdout",
     "output_type": "stream",
     "text": [
      "enter:123\n",
      "6\n"
     ]
    }
   ],
   "source": [
    "#SUM OF DIGITS OF NUMBER\n",
    "n=int(input(\"enter:\"))\n",
    "temp=n\n",
    "sum=0\n",
    "while(temp!=0):\n",
    "    b=temp%10\n",
    "    sum=sum+b\n",
    "    temp=temp//10\n",
    "print(sum)"
   ]
  },
  {
   "cell_type": "code",
   "execution_count": null,
   "metadata": {},
   "outputs": [],
   "source": []
  }
 ],
 "metadata": {
  "kernelspec": {
   "display_name": "Python 3",
   "language": "python",
   "name": "python3"
  },
  "language_info": {
   "codemirror_mode": {
    "name": "ipython",
    "version": 3
   },
   "file_extension": ".py",
   "mimetype": "text/x-python",
   "name": "python",
   "nbconvert_exporter": "python",
   "pygments_lexer": "ipython3",
   "version": "3.7.3"
  }
 },
 "nbformat": 4,
 "nbformat_minor": 2
}
